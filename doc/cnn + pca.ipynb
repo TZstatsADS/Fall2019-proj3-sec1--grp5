{
 "cells": [
  {
   "cell_type": "code",
   "execution_count": 1,
   "metadata": {},
   "outputs": [],
   "source": [
    "import pandas as pd\n",
    "import numpy as np\n",
    "import matplotlib.pyplot as plt\n",
    "import tensorflow as tf"
   ]
  },
  {
   "cell_type": "code",
   "execution_count": 2,
   "metadata": {},
   "outputs": [],
   "source": [
    "from tensorflow.keras.utils import to_categorical\n",
    "from tensorflow.keras.models import Sequential, load_model\n",
    "from tensorflow.keras.layers import Dense, Flatten, Conv1D, MaxPooling1D, Dropout, Reshape"
   ]
  },
  {
   "cell_type": "code",
   "execution_count": 3,
   "metadata": {},
   "outputs": [],
   "source": [
    "from sklearn.model_selection import train_test_split\n",
    "from sklearn.metrics import accuracy_score\n",
    "import pickle\n"
   ]
  },
  {
   "cell_type": "code",
   "execution_count": 4,
   "metadata": {},
   "outputs": [],
   "source": [
    "path = 'C:/Users/lyc07/Desktop/Columbia/S3/GR5243 Applied Data Science/prj3/'\n",
    "dat_full = pd.read_csv(path + 'dat_full.csv')\n",
    "dat_full.drop('Unnamed: 0', inplace=True, axis=1)\n",
    "dat_full.drop('Unnamed: 0.1', inplace=True, axis=1)"
   ]
  },
  {
   "cell_type": "code",
   "execution_count": 5,
   "metadata": {},
   "outputs": [
    {
     "data": {
      "text/html": [
       "<div>\n",
       "<style scoped>\n",
       "    .dataframe tbody tr th:only-of-type {\n",
       "        vertical-align: middle;\n",
       "    }\n",
       "\n",
       "    .dataframe tbody tr th {\n",
       "        vertical-align: top;\n",
       "    }\n",
       "\n",
       "    .dataframe thead th {\n",
       "        text-align: right;\n",
       "    }\n",
       "</style>\n",
       "<table border=\"1\" class=\"dataframe\">\n",
       "  <thead>\n",
       "    <tr style=\"text-align: right;\">\n",
       "      <th></th>\n",
       "      <th>feature1</th>\n",
       "      <th>feature2</th>\n",
       "      <th>feature3</th>\n",
       "      <th>feature4</th>\n",
       "      <th>feature5</th>\n",
       "      <th>feature6</th>\n",
       "      <th>feature7</th>\n",
       "      <th>feature8</th>\n",
       "      <th>feature9</th>\n",
       "      <th>feature10</th>\n",
       "      <th>...</th>\n",
       "      <th>feature5998</th>\n",
       "      <th>feature5999</th>\n",
       "      <th>feature6000</th>\n",
       "      <th>feature6001</th>\n",
       "      <th>feature6002</th>\n",
       "      <th>feature6003</th>\n",
       "      <th>feature6004</th>\n",
       "      <th>feature6005</th>\n",
       "      <th>feature6006</th>\n",
       "      <th>emotion_idx</th>\n",
       "    </tr>\n",
       "  </thead>\n",
       "  <tbody>\n",
       "    <tr>\n",
       "      <td>0</td>\n",
       "      <td>31</td>\n",
       "      <td>18</td>\n",
       "      <td>1</td>\n",
       "      <td>20</td>\n",
       "      <td>33</td>\n",
       "      <td>20</td>\n",
       "      <td>1</td>\n",
       "      <td>17</td>\n",
       "      <td>151</td>\n",
       "      <td>116</td>\n",
       "      <td>...</td>\n",
       "      <td>98</td>\n",
       "      <td>150</td>\n",
       "      <td>202</td>\n",
       "      <td>50</td>\n",
       "      <td>102</td>\n",
       "      <td>154</td>\n",
       "      <td>52</td>\n",
       "      <td>104</td>\n",
       "      <td>52</td>\n",
       "      <td>21</td>\n",
       "    </tr>\n",
       "    <tr>\n",
       "      <td>1</td>\n",
       "      <td>35</td>\n",
       "      <td>15</td>\n",
       "      <td>6</td>\n",
       "      <td>27</td>\n",
       "      <td>39</td>\n",
       "      <td>20</td>\n",
       "      <td>2</td>\n",
       "      <td>17</td>\n",
       "      <td>151</td>\n",
       "      <td>151</td>\n",
       "      <td>...</td>\n",
       "      <td>104</td>\n",
       "      <td>159</td>\n",
       "      <td>213</td>\n",
       "      <td>54</td>\n",
       "      <td>109</td>\n",
       "      <td>163</td>\n",
       "      <td>55</td>\n",
       "      <td>109</td>\n",
       "      <td>54</td>\n",
       "      <td>11</td>\n",
       "    </tr>\n",
       "    <tr>\n",
       "      <td>2</td>\n",
       "      <td>35</td>\n",
       "      <td>17</td>\n",
       "      <td>2</td>\n",
       "      <td>20</td>\n",
       "      <td>32</td>\n",
       "      <td>14</td>\n",
       "      <td>3</td>\n",
       "      <td>20</td>\n",
       "      <td>165</td>\n",
       "      <td>122</td>\n",
       "      <td>...</td>\n",
       "      <td>99</td>\n",
       "      <td>152</td>\n",
       "      <td>204</td>\n",
       "      <td>52</td>\n",
       "      <td>105</td>\n",
       "      <td>157</td>\n",
       "      <td>53</td>\n",
       "      <td>105</td>\n",
       "      <td>52</td>\n",
       "      <td>2</td>\n",
       "    </tr>\n",
       "    <tr>\n",
       "      <td>3</td>\n",
       "      <td>33</td>\n",
       "      <td>16</td>\n",
       "      <td>3</td>\n",
       "      <td>20</td>\n",
       "      <td>29</td>\n",
       "      <td>12</td>\n",
       "      <td>6</td>\n",
       "      <td>23</td>\n",
       "      <td>161</td>\n",
       "      <td>133</td>\n",
       "      <td>...</td>\n",
       "      <td>101</td>\n",
       "      <td>156</td>\n",
       "      <td>210</td>\n",
       "      <td>54</td>\n",
       "      <td>109</td>\n",
       "      <td>163</td>\n",
       "      <td>55</td>\n",
       "      <td>109</td>\n",
       "      <td>54</td>\n",
       "      <td>7</td>\n",
       "    </tr>\n",
       "    <tr>\n",
       "      <td>4</td>\n",
       "      <td>29</td>\n",
       "      <td>15</td>\n",
       "      <td>1</td>\n",
       "      <td>17</td>\n",
       "      <td>27</td>\n",
       "      <td>13</td>\n",
       "      <td>2</td>\n",
       "      <td>17</td>\n",
       "      <td>133</td>\n",
       "      <td>102</td>\n",
       "      <td>...</td>\n",
       "      <td>83</td>\n",
       "      <td>128</td>\n",
       "      <td>172</td>\n",
       "      <td>44</td>\n",
       "      <td>89</td>\n",
       "      <td>133</td>\n",
       "      <td>45</td>\n",
       "      <td>89</td>\n",
       "      <td>44</td>\n",
       "      <td>1</td>\n",
       "    </tr>\n",
       "  </tbody>\n",
       "</table>\n",
       "<p>5 rows × 6007 columns</p>\n",
       "</div>"
      ],
      "text/plain": [
       "   feature1  feature2  feature3  feature4  feature5  feature6  feature7  \\\n",
       "0        31        18         1        20        33        20         1   \n",
       "1        35        15         6        27        39        20         2   \n",
       "2        35        17         2        20        32        14         3   \n",
       "3        33        16         3        20        29        12         6   \n",
       "4        29        15         1        17        27        13         2   \n",
       "\n",
       "   feature8  feature9  feature10  ...  feature5998  feature5999  feature6000  \\\n",
       "0        17       151        116  ...           98          150          202   \n",
       "1        17       151        151  ...          104          159          213   \n",
       "2        20       165        122  ...           99          152          204   \n",
       "3        23       161        133  ...          101          156          210   \n",
       "4        17       133        102  ...           83          128          172   \n",
       "\n",
       "   feature6001  feature6002  feature6003  feature6004  feature6005  \\\n",
       "0           50          102          154           52          104   \n",
       "1           54          109          163           55          109   \n",
       "2           52          105          157           53          105   \n",
       "3           54          109          163           55          109   \n",
       "4           44           89          133           45           89   \n",
       "\n",
       "   feature6006  emotion_idx  \n",
       "0           52           21  \n",
       "1           54           11  \n",
       "2           52            2  \n",
       "3           54            7  \n",
       "4           44            1  \n",
       "\n",
       "[5 rows x 6007 columns]"
      ]
     },
     "execution_count": 5,
     "metadata": {},
     "output_type": "execute_result"
    }
   ],
   "source": [
    "dat_full.head()"
   ]
  },
  {
   "cell_type": "code",
   "execution_count": 6,
   "metadata": {},
   "outputs": [],
   "source": [
    "X, y = dat_full.iloc[:,:-1],dat_full.iloc[:,-1]\n",
    "y = y-1"
   ]
  },
  {
   "cell_type": "code",
   "execution_count": 7,
   "metadata": {},
   "outputs": [],
   "source": [
    "from sklearn.decomposition import PCA\n",
    "pca = PCA(n_components=0.99, whiten=True)\n",
    "X_pca = pca.fit_transform(X)"
   ]
  },
  {
   "cell_type": "code",
   "execution_count": 8,
   "metadata": {},
   "outputs": [],
   "source": [
    "#from sklearn.model_selection import train_test_split\n",
    "#import keras\n",
    "\n",
    "X_train, X_test, y_train, y_test = train_test_split(X_pca, np.asarray(y), test_size=0.2, random_state = 123)\n",
    "\n",
    "# The known number of output classes.\n",
    "num_classes = 22\n",
    "\n",
    "# Input image dimensions\n",
    "input_shape = (4,)\n",
    "\n",
    "# Convert class vectors to binary class matrices. This uses 1 hot encoding.\n",
    "#y_train_binary = to_categorical(y_train, num_classes)\n",
    "#y_test_binary = to_categorical(y_test, num_classes)\n",
    "\n",
    "X_train = X_train.reshape(2000, 92,1)\n",
    "X_test = X_test.reshape(500, 92,1)"
   ]
  },
  {
   "cell_type": "code",
   "execution_count": 18,
   "metadata": {},
   "outputs": [],
   "source": [
    "from tensorflow.keras.regularizers import l1, l2"
   ]
  },
  {
   "cell_type": "code",
   "execution_count": 21,
   "metadata": {},
   "outputs": [
    {
     "name": "stdout",
     "output_type": "stream",
     "text": [
      "Model: \"sequential_4\"\n",
      "_________________________________________________________________\n",
      "Layer (type)                 Output Shape              Param #   \n",
      "=================================================================\n",
      "conv1d_8 (Conv1D)            (None, 92, 800)           1600      \n",
      "_________________________________________________________________\n",
      "conv1d_9 (Conv1D)            (None, 92, 600)           480600    \n",
      "_________________________________________________________________\n",
      "max_pooling1d_4 (MaxPooling1 (None, 46, 600)           0         \n",
      "_________________________________________________________________\n",
      "flatten_4 (Flatten)          (None, 27600)             0         \n",
      "_________________________________________________________________\n",
      "dense_16 (Dense)             (None, 600)               16560600  \n",
      "_________________________________________________________________\n",
      "dense_17 (Dense)             (None, 300)               180300    \n",
      "_________________________________________________________________\n",
      "dense_18 (Dense)             (None, 200)               60200     \n",
      "_________________________________________________________________\n",
      "dropout_4 (Dropout)          (None, 200)               0         \n",
      "_________________________________________________________________\n",
      "dense_19 (Dense)             (None, 22)                4422      \n",
      "=================================================================\n",
      "Total params: 17,287,722\n",
      "Trainable params: 17,287,722\n",
      "Non-trainable params: 0\n",
      "_________________________________________________________________\n"
     ]
    }
   ],
   "source": [
    "model = Sequential()\n",
    "model.add(Conv1D(800, (1), input_shape=(92,1), activation='relu',activity_regularizer=l2(0.001)))\n",
    "model.add(Conv1D(600,(1), activation = 'relu'))\n",
    "model.add(MaxPooling1D(2))\n",
    "model.add(Flatten())\n",
    "model.add(Dense(600, activation='relu',activity_regularizer=l1(0.001)))\n",
    "model.add(Dense(300, activation='relu'))\n",
    "model.add(Dense(200, activation='relu'))\n",
    "model.add(Dropout(0.3))\n",
    "model.add(Dense(num_classes, activation='sigmoid'))\n",
    "\n",
    "model.compile(loss= 'sparse_categorical_crossentropy',\n",
    "              optimizer= 'adam',\n",
    "              metrics=['accuracy'])\n",
    "\n",
    "model.summary()"
   ]
  },
  {
   "cell_type": "code",
   "execution_count": 22,
   "metadata": {},
   "outputs": [
    {
     "name": "stdout",
     "output_type": "stream",
     "text": [
      "Train on 1600 samples, validate on 400 samples\n",
      "Epoch 1/20\n",
      "1600/1600 [==============================] - 7s 4ms/sample - loss: 3.1260 - accuracy: 0.0512 - val_loss: 3.0955 - val_accuracy: 0.0550\n",
      "Epoch 2/20\n",
      "1600/1600 [==============================] - 6s 4ms/sample - loss: 3.0894 - accuracy: 0.0600 - val_loss: 3.0839 - val_accuracy: 0.0675\n",
      "Epoch 3/20\n",
      "1600/1600 [==============================] - 6s 4ms/sample - loss: 3.0075 - accuracy: 0.1106 - val_loss: 2.8845 - val_accuracy: 0.1225\n",
      "Epoch 4/20\n",
      "1600/1600 [==============================] - 6s 4ms/sample - loss: 2.7163 - accuracy: 0.1719 - val_loss: 2.6698 - val_accuracy: 0.1725\n",
      "Epoch 5/20\n",
      "1600/1600 [==============================] - 6s 4ms/sample - loss: 2.4302 - accuracy: 0.2625 - val_loss: 2.6342 - val_accuracy: 0.1900\n",
      "Epoch 6/20\n",
      "1600/1600 [==============================] - 6s 4ms/sample - loss: 2.1266 - accuracy: 0.3300 - val_loss: 2.6808 - val_accuracy: 0.2125\n",
      "Epoch 7/20\n",
      "1600/1600 [==============================] - 6s 4ms/sample - loss: 1.8516 - accuracy: 0.4044 - val_loss: 2.7309 - val_accuracy: 0.2400\n",
      "Epoch 8/20\n",
      "1600/1600 [==============================] - 7s 4ms/sample - loss: 1.5131 - accuracy: 0.5231 - val_loss: 2.8886 - val_accuracy: 0.2625\n",
      "Epoch 9/20\n",
      "1600/1600 [==============================] - 6s 4ms/sample - loss: 1.1803 - accuracy: 0.6275 - val_loss: 3.1590 - val_accuracy: 0.2675\n",
      "Epoch 10/20\n",
      "1600/1600 [==============================] - 6s 4ms/sample - loss: 0.9252 - accuracy: 0.7231 - val_loss: 3.8513 - val_accuracy: 0.2375\n",
      "Epoch 11/20\n",
      "1600/1600 [==============================] - 6s 4ms/sample - loss: 0.7319 - accuracy: 0.7794 - val_loss: 3.7683 - val_accuracy: 0.2500\n",
      "Epoch 12/20\n",
      "1600/1600 [==============================] - 6s 4ms/sample - loss: 0.5818 - accuracy: 0.8456 - val_loss: 4.2751 - val_accuracy: 0.2650\n",
      "Epoch 13/20\n",
      "1600/1600 [==============================] - 6s 4ms/sample - loss: 0.4527 - accuracy: 0.8794 - val_loss: 4.6151 - val_accuracy: 0.2700\n",
      "Epoch 14/20\n",
      "1600/1600 [==============================] - 6s 4ms/sample - loss: 0.3681 - accuracy: 0.9100 - val_loss: 4.6749 - val_accuracy: 0.2475\n",
      "Epoch 15/20\n",
      "1600/1600 [==============================] - 6s 4ms/sample - loss: 0.2834 - accuracy: 0.9469 - val_loss: 4.8018 - val_accuracy: 0.2525\n",
      "Epoch 16/20\n",
      "1600/1600 [==============================] - 6s 4ms/sample - loss: 0.2316 - accuracy: 0.9594 - val_loss: 4.9369 - val_accuracy: 0.2575\n",
      "Epoch 17/20\n",
      "1600/1600 [==============================] - 6s 4ms/sample - loss: 0.2236 - accuracy: 0.9588 - val_loss: 5.0124 - val_accuracy: 0.2400\n",
      "Epoch 18/20\n",
      "1600/1600 [==============================] - 6s 4ms/sample - loss: 0.1881 - accuracy: 0.9694 - val_loss: 5.1166 - val_accuracy: 0.2475\n",
      "Epoch 19/20\n",
      "1600/1600 [==============================] - 6s 4ms/sample - loss: 0.1524 - accuracy: 0.9831 - val_loss: 5.2034 - val_accuracy: 0.2575\n",
      "Epoch 20/20\n",
      "1600/1600 [==============================] - 6s 4ms/sample - loss: 0.1363 - accuracy: 0.9850 - val_loss: 5.3187 - val_accuracy: 0.2400\n"
     ]
    },
    {
     "data": {
      "text/plain": [
       "<tensorflow.python.keras.callbacks.History at 0x2180f84aa20>"
      ]
     },
     "execution_count": 22,
     "metadata": {},
     "output_type": "execute_result"
    }
   ],
   "source": [
    "epochs = 20\n",
    "model.fit(X_train, y_train,\n",
    "          epochs=epochs,\n",
    "          verbose=1,\n",
    "          validation_split = 0.2)"
   ]
  },
  {
   "cell_type": "code",
   "execution_count": 11,
   "metadata": {},
   "outputs": [],
   "source": [
    "pred = model.predict(X_test)"
   ]
  },
  {
   "cell_type": "code",
   "execution_count": 12,
   "metadata": {},
   "outputs": [
    {
     "data": {
      "text/plain": [
       "0.264"
      ]
     },
     "execution_count": 12,
     "metadata": {},
     "output_type": "execute_result"
    }
   ],
   "source": [
    "pred_index = np.argmax(pred, axis = 1)\n",
    "accuracy = accuracy_score(y_test, pred_index)\n",
    "accuracy"
   ]
  },
  {
   "cell_type": "code",
   "execution_count": null,
   "metadata": {},
   "outputs": [],
   "source": []
  }
 ],
 "metadata": {
  "kernelspec": {
   "display_name": "Python 3",
   "language": "python",
   "name": "python3"
  },
  "language_info": {
   "codemirror_mode": {
    "name": "ipython",
    "version": 3
   },
   "file_extension": ".py",
   "mimetype": "text/x-python",
   "name": "python",
   "nbconvert_exporter": "python",
   "pygments_lexer": "ipython3",
   "version": "3.7.1"
  }
 },
 "nbformat": 4,
 "nbformat_minor": 2
}
