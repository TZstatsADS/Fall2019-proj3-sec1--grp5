{
 "cells": [
  {
   "cell_type": "code",
   "execution_count": null,
   "metadata": {},
   "outputs": [],
   "source": []
  },
  {
   "cell_type": "code",
   "execution_count": 11,
   "metadata": {},
   "outputs": [],
   "source": [
    "import pandas as pd\n",
    "import numpy as np\n",
    "from sklearn.decomposition import PCA\n",
    "from sklearn.model_selection import GridSearchCV\n",
    "from sklearn.model_selection import train_test_split\n",
    "from sklearn.metrics import accuracy_score\n",
    "import tensorflow as tf\n",
    "from tensorflow.keras.models import Sequential, load_model\n",
    "from tensorflow.keras.layers import Dense, Dropout\n",
    "from tensorflow.keras.wrappers.scikit_learn import KerasClassifier\n",
    "from tensorflow.keras.regularizers import l1,l2"
   ]
  },
  {
   "cell_type": "code",
   "execution_count": 69,
   "metadata": {},
   "outputs": [],
   "source": [
    "from tensorflow.keras.optimizers import Adam"
   ]
  },
  {
   "cell_type": "code",
   "execution_count": 70,
   "metadata": {},
   "outputs": [],
   "source": [
    "# create model\n",
    "def create_model(learning_rate= 0.01):\n",
    "    # create model\n",
    "    model = Sequential()\n",
    "    model.add(Dense(1000, input_dim=90,kernel_initializer = 'lecun_uniform', activation = 'tanh',activity_regularizer=l2(0.001)))\n",
    "    model.add(Dense(600, activation= 'tanh'))\n",
    "    model.add(Dense(600, activation= 'tanh'))\n",
    "    model.add(Dense(600, activation = 'tanh'))\n",
    "    model.add(Dense(600, activation= 'tanh'))\n",
    "    model.add(Dense(400, activation= 'tanh'))\n",
    "    model.add(Dropout(0.2))\n",
    "    model.add(Dense(22, activation = 'sigmoid'))\n",
    "    # Compile model\n",
    "    optimizer = Adam(lr=learning_rate)\n",
    "    model.compile(loss='sparse_categorical_crossentropy', optimizer=optimizer, metrics=['accuracy'])\n",
    "    return model"
   ]
  },
  {
   "cell_type": "code",
   "execution_count": 8,
   "metadata": {},
   "outputs": [],
   "source": [
    "# set seed\n",
    "seed = 7\n",
    "np.random.seed(seed)"
   ]
  },
  {
   "cell_type": "code",
   "execution_count": 9,
   "metadata": {},
   "outputs": [],
   "source": [
    "# load dataset\n",
    "path = 'C:/Users/lyc07/Desktop/Columbia/S3/GR5243 Applied Data Science/prj3/'\n",
    "dat_full = pd.read_csv(path + 'dat_full.csv')\n",
    "dat_full.drop('Unnamed: 0', inplace=True, axis=1)\n",
    "dat_full.drop('Unnamed: 0.1', inplace=True, axis=1)\n",
    "X, y = dat_full.iloc[:,:-1],dat_full.iloc[:,-1]\n",
    "y = y-1\n",
    "\n",
    "X_train, X_test, y_train, y_test = train_test_split(X, np.asarray(y), test_size=0.2, random_state=123)"
   ]
  },
  {
   "cell_type": "code",
   "execution_count": null,
   "metadata": {},
   "outputs": [],
   "source": []
  },
  {
   "cell_type": "code",
   "execution_count": 13,
   "metadata": {},
   "outputs": [],
   "source": [
    "pca = PCA(n_components=0.99, whiten=True)\n",
    "X_pca_train = pca.fit_transform(X_train)\n",
    "X_pca_test = pca.transform(X_test)"
   ]
  },
  {
   "cell_type": "code",
   "execution_count": 71,
   "metadata": {},
   "outputs": [],
   "source": [
    "# Create model\n",
    "# create model\n",
    "model = KerasClassifier(build_fn=create_model,epochs = 15, verbose=0)"
   ]
  },
  {
   "cell_type": "code",
   "execution_count": 73,
   "metadata": {},
   "outputs": [],
   "source": [
    "learning_rate = [0.001,0.01,0.1,0.2,0.3]\n",
    "param_grid = dict(learning_rate = learning_rate)\n",
    "grid = GridSearchCV(estimator=model, param_grid=param_grid, n_jobs=-1, cv=5)\n",
    "grid_result = grid.fit(X_pca_train, y_train)"
   ]
  },
  {
   "cell_type": "code",
   "execution_count": 74,
   "metadata": {},
   "outputs": [
    {
     "name": "stdout",
     "output_type": "stream",
     "text": [
      "Best: 0.483000 using {'learning_rate': 0.001}\n"
     ]
    }
   ],
   "source": [
    "# summarize results\n",
    "print(\"Best: %f using %s\" % (grid_result.best_score_, grid_result.best_params_))"
   ]
  },
  {
   "cell_type": "code",
   "execution_count": null,
   "metadata": {},
   "outputs": [],
   "source": [
    "# best epoch = 15\n",
    "# drop_out rate = 0.2\n",
    "# layer 1: neuron = 1000\n",
    "# layer 2: neuron = 600\n",
    "# layer 3 : neuron = 600\n",
    "# layer 4 : neuron = 600\n",
    "# layer 5 : neuron = 600\n",
    "# layer 6 : neuron = 400\n",
    "# activation : tanh\n",
    "# kernel_initializer = 'lecun_uniform'\n",
    "# learning_rate = 0.001"
   ]
  },
  {
   "cell_type": "code",
   "execution_count": null,
   "metadata": {},
   "outputs": [],
   "source": []
  }
 ],
 "metadata": {
  "kernelspec": {
   "display_name": "Python 3",
   "language": "python",
   "name": "python3"
  },
  "language_info": {
   "codemirror_mode": {
    "name": "ipython",
    "version": 3
   },
   "file_extension": ".py",
   "mimetype": "text/x-python",
   "name": "python",
   "nbconvert_exporter": "python",
   "pygments_lexer": "ipython3",
   "version": "3.7.1"
  }
 },
 "nbformat": 4,
 "nbformat_minor": 2
}
