{
 "cells": [
  {
   "cell_type": "code",
   "execution_count": 1,
   "metadata": {},
   "outputs": [],
   "source": [
    "import pandas as pd\n",
    "import numpy as np\n",
    "import matplotlib.pyplot as plt\n",
    "import tensorflow as tf"
   ]
  },
  {
   "cell_type": "code",
   "execution_count": 13,
   "metadata": {},
   "outputs": [],
   "source": [
    "from tensorflow.keras.utils import to_categorical\n",
    "from tensorflow.keras.models import Sequential, load_model\n",
    "from tensorflow.keras.layers import Dense, Flatten, Conv1D, MaxPooling1D, Dropout, Reshape\n",
    "from tensorflow.keras.regularizers import l1,l2"
   ]
  },
  {
   "cell_type": "code",
   "execution_count": 3,
   "metadata": {},
   "outputs": [],
   "source": [
    "from sklearn.decomposition import PCA\n",
    "from sklearn.model_selection import train_test_split\n",
    "from sklearn.metrics import accuracy_score\n",
    "import pickle"
   ]
  },
  {
   "cell_type": "code",
   "execution_count": 25,
   "metadata": {},
   "outputs": [],
   "source": [
    "# loading data\n",
    "path = 'C:/Users/lyc07/Desktop/Columbia/S3/GR5243 Applied Data Science/prj3/'\n",
    "dat_full = pd.read_csv(path + 'dat_full.csv')\n",
    "dat_full.drop('Unnamed: 0', inplace=True, axis=1)\n",
    "dat_full.drop('Unnamed: 0.1', inplace=True, axis=1)\n",
    "\n",
    "dat_full.head()\n",
    "\n",
    "X, y = dat_full.iloc[:,:-1],dat_full.iloc[:,-1]\n",
    "y = y-1"
   ]
  },
  {
   "cell_type": "code",
   "execution_count": 5,
   "metadata": {},
   "outputs": [],
   "source": []
  },
  {
   "cell_type": "code",
   "execution_count": 6,
   "metadata": {},
   "outputs": [
    {
     "data": {
      "text/html": [
       "<div>\n",
       "<style scoped>\n",
       "    .dataframe tbody tr th:only-of-type {\n",
       "        vertical-align: middle;\n",
       "    }\n",
       "\n",
       "    .dataframe tbody tr th {\n",
       "        vertical-align: top;\n",
       "    }\n",
       "\n",
       "    .dataframe thead th {\n",
       "        text-align: right;\n",
       "    }\n",
       "</style>\n",
       "<table border=\"1\" class=\"dataframe\">\n",
       "  <thead>\n",
       "    <tr style=\"text-align: right;\">\n",
       "      <th></th>\n",
       "      <th>feature1</th>\n",
       "      <th>feature2</th>\n",
       "      <th>feature3</th>\n",
       "      <th>feature4</th>\n",
       "      <th>feature5</th>\n",
       "      <th>feature6</th>\n",
       "      <th>feature7</th>\n",
       "      <th>feature8</th>\n",
       "      <th>feature9</th>\n",
       "      <th>feature10</th>\n",
       "      <th>...</th>\n",
       "      <th>feature5998</th>\n",
       "      <th>feature5999</th>\n",
       "      <th>feature6000</th>\n",
       "      <th>feature6001</th>\n",
       "      <th>feature6002</th>\n",
       "      <th>feature6003</th>\n",
       "      <th>feature6004</th>\n",
       "      <th>feature6005</th>\n",
       "      <th>feature6006</th>\n",
       "      <th>emotion_idx</th>\n",
       "    </tr>\n",
       "  </thead>\n",
       "  <tbody>\n",
       "    <tr>\n",
       "      <td>0</td>\n",
       "      <td>31</td>\n",
       "      <td>18</td>\n",
       "      <td>1</td>\n",
       "      <td>20</td>\n",
       "      <td>33</td>\n",
       "      <td>20</td>\n",
       "      <td>1</td>\n",
       "      <td>17</td>\n",
       "      <td>151</td>\n",
       "      <td>116</td>\n",
       "      <td>...</td>\n",
       "      <td>98</td>\n",
       "      <td>150</td>\n",
       "      <td>202</td>\n",
       "      <td>50</td>\n",
       "      <td>102</td>\n",
       "      <td>154</td>\n",
       "      <td>52</td>\n",
       "      <td>104</td>\n",
       "      <td>52</td>\n",
       "      <td>21</td>\n",
       "    </tr>\n",
       "    <tr>\n",
       "      <td>1</td>\n",
       "      <td>35</td>\n",
       "      <td>15</td>\n",
       "      <td>6</td>\n",
       "      <td>27</td>\n",
       "      <td>39</td>\n",
       "      <td>20</td>\n",
       "      <td>2</td>\n",
       "      <td>17</td>\n",
       "      <td>151</td>\n",
       "      <td>151</td>\n",
       "      <td>...</td>\n",
       "      <td>104</td>\n",
       "      <td>159</td>\n",
       "      <td>213</td>\n",
       "      <td>54</td>\n",
       "      <td>109</td>\n",
       "      <td>163</td>\n",
       "      <td>55</td>\n",
       "      <td>109</td>\n",
       "      <td>54</td>\n",
       "      <td>11</td>\n",
       "    </tr>\n",
       "    <tr>\n",
       "      <td>2</td>\n",
       "      <td>35</td>\n",
       "      <td>17</td>\n",
       "      <td>2</td>\n",
       "      <td>20</td>\n",
       "      <td>32</td>\n",
       "      <td>14</td>\n",
       "      <td>3</td>\n",
       "      <td>20</td>\n",
       "      <td>165</td>\n",
       "      <td>122</td>\n",
       "      <td>...</td>\n",
       "      <td>99</td>\n",
       "      <td>152</td>\n",
       "      <td>204</td>\n",
       "      <td>52</td>\n",
       "      <td>105</td>\n",
       "      <td>157</td>\n",
       "      <td>53</td>\n",
       "      <td>105</td>\n",
       "      <td>52</td>\n",
       "      <td>2</td>\n",
       "    </tr>\n",
       "    <tr>\n",
       "      <td>3</td>\n",
       "      <td>33</td>\n",
       "      <td>16</td>\n",
       "      <td>3</td>\n",
       "      <td>20</td>\n",
       "      <td>29</td>\n",
       "      <td>12</td>\n",
       "      <td>6</td>\n",
       "      <td>23</td>\n",
       "      <td>161</td>\n",
       "      <td>133</td>\n",
       "      <td>...</td>\n",
       "      <td>101</td>\n",
       "      <td>156</td>\n",
       "      <td>210</td>\n",
       "      <td>54</td>\n",
       "      <td>109</td>\n",
       "      <td>163</td>\n",
       "      <td>55</td>\n",
       "      <td>109</td>\n",
       "      <td>54</td>\n",
       "      <td>7</td>\n",
       "    </tr>\n",
       "    <tr>\n",
       "      <td>4</td>\n",
       "      <td>29</td>\n",
       "      <td>15</td>\n",
       "      <td>1</td>\n",
       "      <td>17</td>\n",
       "      <td>27</td>\n",
       "      <td>13</td>\n",
       "      <td>2</td>\n",
       "      <td>17</td>\n",
       "      <td>133</td>\n",
       "      <td>102</td>\n",
       "      <td>...</td>\n",
       "      <td>83</td>\n",
       "      <td>128</td>\n",
       "      <td>172</td>\n",
       "      <td>44</td>\n",
       "      <td>89</td>\n",
       "      <td>133</td>\n",
       "      <td>45</td>\n",
       "      <td>89</td>\n",
       "      <td>44</td>\n",
       "      <td>1</td>\n",
       "    </tr>\n",
       "  </tbody>\n",
       "</table>\n",
       "<p>5 rows × 6007 columns</p>\n",
       "</div>"
      ],
      "text/plain": [
       "   feature1  feature2  feature3  feature4  feature5  feature6  feature7  \\\n",
       "0        31        18         1        20        33        20         1   \n",
       "1        35        15         6        27        39        20         2   \n",
       "2        35        17         2        20        32        14         3   \n",
       "3        33        16         3        20        29        12         6   \n",
       "4        29        15         1        17        27        13         2   \n",
       "\n",
       "   feature8  feature9  feature10  ...  feature5998  feature5999  feature6000  \\\n",
       "0        17       151        116  ...           98          150          202   \n",
       "1        17       151        151  ...          104          159          213   \n",
       "2        20       165        122  ...           99          152          204   \n",
       "3        23       161        133  ...          101          156          210   \n",
       "4        17       133        102  ...           83          128          172   \n",
       "\n",
       "   feature6001  feature6002  feature6003  feature6004  feature6005  \\\n",
       "0           50          102          154           52          104   \n",
       "1           54          109          163           55          109   \n",
       "2           52          105          157           53          105   \n",
       "3           54          109          163           55          109   \n",
       "4           44           89          133           45           89   \n",
       "\n",
       "   feature6006  emotion_idx  \n",
       "0           52           21  \n",
       "1           54           11  \n",
       "2           52            2  \n",
       "3           54            7  \n",
       "4           44            1  \n",
       "\n",
       "[5 rows x 6007 columns]"
      ]
     },
     "execution_count": 6,
     "metadata": {},
     "output_type": "execute_result"
    }
   ],
   "source": []
  },
  {
   "cell_type": "code",
   "execution_count": 7,
   "metadata": {},
   "outputs": [],
   "source": [
    "# Train test split on data\n",
    "X_train, X_test, y_train, y_test = train_test_split(X, np.asarray(y), test_size=0.2, random_state=123)"
   ]
  },
  {
   "cell_type": "code",
   "execution_count": 15,
   "metadata": {},
   "outputs": [],
   "source": []
  },
  {
   "cell_type": "code",
   "execution_count": 10,
   "metadata": {},
   "outputs": [],
   "source": []
  },
  {
   "cell_type": "code",
   "execution_count": 16,
   "metadata": {},
   "outputs": [
    {
     "name": "stdout",
     "output_type": "stream",
     "text": [
      "90\n",
      "90\n"
     ]
    }
   ],
   "source": [
    "# Applying pca to reduce dimensionality\n",
    "# first apply pca on X_train, then project X_test to the same dimension\n",
    "# we have 90 dimensions after applying pca to the data\n",
    "pca = PCA(n_components=0.99, whiten=True)\n",
    "X_pca_train = pca.fit_transform(X_train)\n",
    "X_pca_test = pca.transform(X_test)\n",
    "print(len(X_pca_train[1]))\n",
    "print(len(X_pca_test[1]))"
   ]
  },
  {
   "cell_type": "code",
   "execution_count": 21,
   "metadata": {},
   "outputs": [
    {
     "name": "stdout",
     "output_type": "stream",
     "text": [
      "Model: \"sequential_3\"\n",
      "_________________________________________________________________\n",
      "Layer (type)                 Output Shape              Param #   \n",
      "=================================================================\n",
      "dense_21 (Dense)             (None, 800)               72800     \n",
      "_________________________________________________________________\n",
      "dense_22 (Dense)             (None, 600)               480600    \n",
      "_________________________________________________________________\n",
      "dense_23 (Dense)             (None, 600)               360600    \n",
      "_________________________________________________________________\n",
      "dense_24 (Dense)             (None, 300)               180300    \n",
      "_________________________________________________________________\n",
      "dense_25 (Dense)             (None, 200)               60200     \n",
      "_________________________________________________________________\n",
      "dense_26 (Dense)             (None, 100)               20100     \n",
      "_________________________________________________________________\n",
      "dropout_3 (Dropout)          (None, 100)               0         \n",
      "_________________________________________________________________\n",
      "dense_27 (Dense)             (None, 22)                2222      \n",
      "=================================================================\n",
      "Total params: 1,176,822\n",
      "Trainable params: 1,176,822\n",
      "Non-trainable params: 0\n",
      "_________________________________________________________________\n",
      "Train on 1600 samples, validate on 400 samples\n",
      "Epoch 1/15\n",
      "1600/1600 [==============================] - 1s 921us/sample - loss: 3.1274 - accuracy: 0.0700 - val_loss: 2.9127 - val_accuracy: 0.1650\n",
      "Epoch 2/15\n",
      "1600/1600 [==============================] - 0s 312us/sample - loss: 2.6031 - accuracy: 0.1781 - val_loss: 2.3999 - val_accuracy: 0.2600\n",
      "Epoch 3/15\n",
      "1600/1600 [==============================] - 1s 327us/sample - loss: 2.1243 - accuracy: 0.2881 - val_loss: 2.1205 - val_accuracy: 0.3275\n",
      "Epoch 4/15\n",
      "1600/1600 [==============================] - 0s 310us/sample - loss: 1.7868 - accuracy: 0.3938 - val_loss: 1.9842 - val_accuracy: 0.3650\n",
      "Epoch 5/15\n",
      "1600/1600 [==============================] - 1s 317us/sample - loss: 1.5112 - accuracy: 0.4963 - val_loss: 1.8976 - val_accuracy: 0.4400\n",
      "Epoch 6/15\n",
      "1600/1600 [==============================] - 1s 320us/sample - loss: 1.2262 - accuracy: 0.5581 - val_loss: 1.7849 - val_accuracy: 0.4850\n",
      "Epoch 7/15\n",
      "1600/1600 [==============================] - 0s 312us/sample - loss: 1.0757 - accuracy: 0.6400 - val_loss: 1.8059 - val_accuracy: 0.4850\n",
      "Epoch 8/15\n",
      "1600/1600 [==============================] - 1s 315us/sample - loss: 0.8861 - accuracy: 0.7138 - val_loss: 2.1176 - val_accuracy: 0.4700\n",
      "Epoch 9/15\n",
      "1600/1600 [==============================] - 0s 310us/sample - loss: 0.7700 - accuracy: 0.7694 - val_loss: 2.0025 - val_accuracy: 0.4875\n",
      "Epoch 10/15\n",
      "1600/1600 [==============================] - 1s 330us/sample - loss: 0.5904 - accuracy: 0.8062 - val_loss: 2.3095 - val_accuracy: 0.4850\n",
      "Epoch 11/15\n",
      "1600/1600 [==============================] - 1s 335us/sample - loss: 0.5187 - accuracy: 0.8325 - val_loss: 2.3050 - val_accuracy: 0.4875\n",
      "Epoch 12/15\n",
      "1600/1600 [==============================] - 0s 307us/sample - loss: 0.4693 - accuracy: 0.8569 - val_loss: 2.3145 - val_accuracy: 0.5025\n",
      "Epoch 13/15\n",
      "1600/1600 [==============================] - 0s 310us/sample - loss: 0.4357 - accuracy: 0.8794 - val_loss: 2.5351 - val_accuracy: 0.5100\n",
      "Epoch 14/15\n",
      "1600/1600 [==============================] - 0s 312us/sample - loss: 0.4827 - accuracy: 0.8644 - val_loss: 2.2921 - val_accuracy: 0.5200\n",
      "Epoch 15/15\n",
      "1600/1600 [==============================] - 0s 307us/sample - loss: 0.3354 - accuracy: 0.9200 - val_loss: 2.6722 - val_accuracy: 0.4800\n"
     ]
    },
    {
     "data": {
      "text/plain": [
       "0.43"
      ]
     },
     "execution_count": 21,
     "metadata": {},
     "output_type": "execute_result"
    }
   ],
   "source": [
    "# plain model\n",
    "#activity_regularizer=l2(0.001)\n",
    "model = Sequential()\n",
    "model.add(Dense(800, input_dim=90, activation='relu',activity_regularizer=l2(0.001)))\n",
    "model.add(Dense(600, activation='relu'))\n",
    "model.add(Dense(600, activation='relu'))\n",
    "model.add(Dense(300, activation='relu'))\n",
    "model.add(Dense(200, activation='relu'))\n",
    "model.add(Dense(100, activation='relu'))\n",
    "model.add(Dropout(0.3))\n",
    "model.add(Dense(22, activation = 'sigmoid'))\n",
    "\n",
    "model.summary()\n",
    "model.compile(loss='sparse_categorical_crossentropy', optimizer='adam', metrics=['accuracy'])\n",
    "\n",
    "history = model.fit(X_pca_train, y_train, epochs = 15,validation_split = 0.2)\n",
    "\n",
    "history.history.keys()\n",
    "\n",
    "pred = model.predict(X_pca_test)\n",
    "\n",
    "pred_index = np.argmax(pred, axis = 1)\n",
    "accuracy = accuracy_score(y_test, pred_index)\n",
    "accuracy"
   ]
  },
  {
   "cell_type": "code",
   "execution_count": 22,
   "metadata": {},
   "outputs": [
    {
     "data": {
      "text/plain": [
       "dict_keys(['loss', 'accuracy', 'val_loss', 'val_accuracy'])"
      ]
     },
     "execution_count": 22,
     "metadata": {},
     "output_type": "execute_result"
    }
   ],
   "source": [
    "history.history.keys()"
   ]
  },
  {
   "cell_type": "code",
   "execution_count": 23,
   "metadata": {},
   "outputs": [
    {
     "data": {
      "image/png": "[encoded data removed]",
      "text/plain": [
       "<Figure size 432x288 with 1 Axes>"
      ]
     },
     "metadata": {
      "needs_background": "light"
     },
     "output_type": "display_data"
    },
    {
     "data": {
      "image/png": "[encoded data removed]",
      "text/plain": [
       "<Figure size 432x288 with 1 Axes>"
      ]
     },
     "metadata": {
      "needs_background": "light"
     },
     "output_type": "display_data"
    }
   ],
   "source": [
    "# epoch plot\n",
    "acc = history.history['accuracy']\n",
    "val_acc = history.history['val_accuracy']\n",
    "loss = history.history['loss']\n",
    "val_loss = history.history['val_loss']\n",
    "\n",
    "epochs = range(1, len(acc) + 1)\n",
    "plt.plot(epochs, acc, 'bo', label='Training acc')\n",
    "plt.plot(epochs, val_acc, 'b', label='Validation acc')\n",
    "plt.title('Training and validation accuracy')\n",
    "plt.legend()\n",
    "plt.figure()\n",
    "\n",
    "plt.plot(epochs, loss, 'bo', label='Training loss')\n",
    "plt.plot(epochs, val_loss, 'b', label='Validation loss')\n",
    "plt.title('Training and validation loss')\n",
    "plt.legend()\n",
    "plt.show()"
   ]
  },
  {
   "cell_type": "code",
   "execution_count": 24,
   "metadata": {},
   "outputs": [
    {
     "name": "stdout",
     "output_type": "stream",
     "text": [
      "Model: \"sequential_4\"\n",
      "_________________________________________________________________\n",
      "Layer (type)                 Output Shape              Param #   \n",
      "=================================================================\n",
      "dense_28 (Dense)             (None, 1000)              91000     \n",
      "_________________________________________________________________\n",
      "dense_29 (Dense)             (None, 600)               600600    \n",
      "_________________________________________________________________\n",
      "dense_30 (Dense)             (None, 600)               360600    \n",
      "_________________________________________________________________\n",
      "dense_31 (Dense)             (None, 600)               360600    \n",
      "_________________________________________________________________\n",
      "dense_32 (Dense)             (None, 600)               360600    \n",
      "_________________________________________________________________\n",
      "dense_33 (Dense)             (None, 400)               240400    \n",
      "_________________________________________________________________\n",
      "dropout_4 (Dropout)          (None, 400)               0         \n",
      "_________________________________________________________________\n",
      "dense_34 (Dense)             (None, 22)                8822      \n",
      "=================================================================\n",
      "Total params: 2,022,622\n",
      "Trainable params: 2,022,622\n",
      "Non-trainable params: 0\n",
      "_________________________________________________________________\n",
      "Train on 1600 samples, validate on 400 samples\n",
      "Epoch 1/15\n",
      "1600/1600 [==============================] - 2s 1ms/sample - loss: 3.2301 - accuracy: 0.2269 - val_loss: 3.1326 - val_accuracy: 0.2200\n",
      "Epoch 2/15\n",
      "1600/1600 [==============================] - 1s 474us/sample - loss: 2.9440 - accuracy: 0.2794 - val_loss: 2.9780 - val_accuracy: 0.3050\n",
      "Epoch 3/15\n",
      "1600/1600 [==============================] - 1s 489us/sample - loss: 2.7084 - accuracy: 0.3013 - val_loss: 2.7504 - val_accuracy: 0.3325\n",
      "Epoch 4/15\n",
      "1600/1600 [==============================] - 1s 479us/sample - loss: 2.4813 - accuracy: 0.3744 - val_loss: 2.4711 - val_accuracy: 0.3675\n",
      "Epoch 5/15\n",
      "1600/1600 [==============================] - 1s 472us/sample - loss: 2.1319 - accuracy: 0.4688 - val_loss: 2.2190 - val_accuracy: 0.5050\n",
      "Epoch 6/15\n",
      "1600/1600 [==============================] - 1s 474us/sample - loss: 1.8334 - accuracy: 0.5750 - val_loss: 2.3431 - val_accuracy: 0.4925\n",
      "Epoch 7/15\n",
      "1600/1600 [==============================] - 1s 482us/sample - loss: 1.5735 - accuracy: 0.6544 - val_loss: 2.1220 - val_accuracy: 0.5400\n",
      "Epoch 8/15\n",
      "1600/1600 [==============================] - 1s 489us/sample - loss: 1.3881 - accuracy: 0.6944 - val_loss: 2.1331 - val_accuracy: 0.5075\n",
      "Epoch 9/15\n",
      "1600/1600 [==============================] - 1s 487us/sample - loss: 1.2370 - accuracy: 0.7531 - val_loss: 2.2998 - val_accuracy: 0.5225\n",
      "Epoch 10/15\n",
      "1600/1600 [==============================] - 1s 489us/sample - loss: 1.0714 - accuracy: 0.8181 - val_loss: 2.3263 - val_accuracy: 0.5575\n",
      "Epoch 11/15\n",
      "1600/1600 [==============================] - 1s 477us/sample - loss: 0.9561 - accuracy: 0.8525 - val_loss: 2.4382 - val_accuracy: 0.5350\n",
      "Epoch 12/15\n",
      "1600/1600 [==============================] - 1s 469us/sample - loss: 0.8461 - accuracy: 0.9000 - val_loss: 2.4795 - val_accuracy: 0.5475\n",
      "Epoch 13/15\n",
      "1600/1600 [==============================] - 1s 484us/sample - loss: 0.8477 - accuracy: 0.8969 - val_loss: 2.6083 - val_accuracy: 0.5225\n",
      "Epoch 14/15\n",
      "1600/1600 [==============================] - 1s 497us/sample - loss: 0.7751 - accuracy: 0.9225 - val_loss: 2.6304 - val_accuracy: 0.5250\n",
      "Epoch 15/15\n",
      "1600/1600 [==============================] - 1s 507us/sample - loss: 0.6895 - accuracy: 0.9519 - val_loss: 2.5283 - val_accuracy: 0.5475\n"
     ]
    },
    {
     "data": {
      "text/plain": [
       "0.472"
      ]
     },
     "execution_count": 24,
     "metadata": {},
     "output_type": "execute_result"
    }
   ],
   "source": [
    "# model 2 after parameter tuning\n",
    "# for parameter tuning see neural net tuning.ipynb\n",
    "# The parameters tuned are number of neurons in each layer; kernel_initializer; activation function; dropout_rate and optimizer.\n",
    "# We can see the accuracy is increased\n",
    "model2 = Sequential()\n",
    "model2.add(Dense(1000, input_dim=90, activation='tanh',kernel_initializer = 'lecun_uniform',activity_regularizer=l1(0.001)))\n",
    "model2.add(Dense(600, activation='tanh',kernel_initializer = 'lecun_uniform'))\n",
    "model2.add(Dense(600, activation='tanh',kernel_initializer = 'lecun_uniform'))\n",
    "model2.add(Dense(600, activation='tanh',kernel_initializer = 'lecun_uniform'))\n",
    "model2.add(Dense(600, activation='tanh',kernel_initializer = 'lecun_uniform'))\n",
    "model2.add(Dense(400, activation='tanh',kernel_initializer = 'lecun_uniform'))\n",
    "model2.add(Dropout(0.2))\n",
    "model2.add(Dense(22, activation = 'sigmoid'))\n",
    "\n",
    "model2.summary()\n",
    "\n",
    "model2.compile(loss='sparse_categorical_crossentropy', optimizer='adam', metrics=['accuracy'])\n",
    "\n",
    "model2.fit(X_pca_train, y_train, epochs = 15, validation_split = 0.2)\n",
    "\n",
    "pred2 = model2.predict(X_pca_test)\n",
    "pred_index2 = np.argmax(pred2, axis = 1)\n",
    "accuracy2 = accuracy_score(y_test, pred_index2)\n",
    "accuracy2\n"
   ]
  },
  {
   "cell_type": "code",
   "execution_count": null,
   "metadata": {},
   "outputs": [],
   "source": []
  }
 ],
 "metadata": {
  "kernelspec": {
   "display_name": "Python 3",
   "language": "python",
   "name": "python3"
  },
  "language_info": {
   "codemirror_mode": {
    "name": "ipython",
    "version": 3
   },
   "file_extension": ".py",
   "mimetype": "text/x-python",
   "name": "python",
   "nbconvert_exporter": "python",
   "pygments_lexer": "ipython3",
   "version": "3.7.1"
  }
 },
 "nbformat": 4,
 "nbformat_minor": 2
}
